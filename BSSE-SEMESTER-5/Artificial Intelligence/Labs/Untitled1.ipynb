{
 "cells": [
  {
   "cell_type": "markdown",
   "id": "3821aa71",
   "metadata": {},
   "source": [
    "# Data structures (Mutables, immutables): lists, strings, tuples, dictionaries, sets"
   ]
  },
  {
   "cell_type": "code",
   "execution_count": 3,
   "id": "8db1988a",
   "metadata": {},
   "outputs": [],
   "source": [
    "a=1,2,3,'ai',3\n",
    "b=(1,2,3,'ai')"
   ]
  },
  {
   "cell_type": "code",
   "execution_count": 2,
   "id": "f2df4d0e",
   "metadata": {},
   "outputs": [
    {
     "name": "stdout",
     "output_type": "stream",
     "text": [
      "1 2 3 ai "
     ]
    }
   ],
   "source": [
    "for i in a:\n",
    "    print(i, end=' ')"
   ]
  },
  {
   "cell_type": "code",
   "execution_count": 4,
   "id": "32b3c09a",
   "metadata": {},
   "outputs": [
    {
     "data": {
      "text/plain": [
       "2"
      ]
     },
     "execution_count": 4,
     "metadata": {},
     "output_type": "execute_result"
    }
   ],
   "source": [
    "a.count(3)"
   ]
  },
  {
   "cell_type": "markdown",
   "id": "04963686",
   "metadata": {},
   "source": [
    "# Dictionary={key1:value1, key2:value2} "
   ]
  },
  {
   "cell_type": "code",
   "execution_count": 5,
   "id": "324c7f99",
   "metadata": {},
   "outputs": [],
   "source": [
    "d={'lab':'SE lab','Section':5,123:['Ai',1,3]}"
   ]
  },
  {
   "cell_type": "code",
   "execution_count": 7,
   "id": "9e8a1f3b",
   "metadata": {},
   "outputs": [],
   "source": [
    "d['lab']=('se',1,2)"
   ]
  },
  {
   "cell_type": "code",
   "execution_count": 8,
   "id": "06908192",
   "metadata": {},
   "outputs": [
    {
     "data": {
      "text/plain": [
       "{'lab': ('se', 1, 2), 'Section': 5, 123: ['Ai', 1, 3]}"
      ]
     },
     "execution_count": 8,
     "metadata": {},
     "output_type": "execute_result"
    }
   ],
   "source": [
    "d"
   ]
  },
  {
   "cell_type": "code",
   "execution_count": 9,
   "id": "d0afd599",
   "metadata": {},
   "outputs": [
    {
     "data": {
      "text/plain": [
       "{'lab': ('se', 1, 2), 'Section': 5, 123: ['Ai', 1, 3], 'new key': [3, 5, 6, 7]}"
      ]
     },
     "execution_count": 9,
     "metadata": {},
     "output_type": "execute_result"
    }
   ],
   "source": [
    "d['new key']=[3,5,6,7]\n",
    "d"
   ]
  },
  {
   "cell_type": "code",
   "execution_count": 10,
   "id": "d996b86f",
   "metadata": {},
   "outputs": [
    {
     "data": {
      "text/plain": [
       "{'lab': ('se', 1, 2), 'Section': 5, 123: ['Ai', 1, 3]}"
      ]
     },
     "execution_count": 10,
     "metadata": {},
     "output_type": "execute_result"
    }
   ],
   "source": [
    "del d['new key']\n",
    "d"
   ]
  },
  {
   "cell_type": "code",
   "execution_count": 11,
   "id": "a101c1c2",
   "metadata": {},
   "outputs": [
    {
     "data": {
      "text/plain": [
       "dict_keys(['lab', 'Section', 123])"
      ]
     },
     "execution_count": 11,
     "metadata": {},
     "output_type": "execute_result"
    }
   ],
   "source": [
    "d.keys()"
   ]
  },
  {
   "cell_type": "code",
   "execution_count": 12,
   "id": "c35c9d8e",
   "metadata": {},
   "outputs": [
    {
     "data": {
      "text/plain": [
       "dict_values([('se', 1, 2), 5, ['Ai', 1, 3]])"
      ]
     },
     "execution_count": 12,
     "metadata": {},
     "output_type": "execute_result"
    }
   ],
   "source": [
    "d.values()"
   ]
  },
  {
   "cell_type": "code",
   "execution_count": 14,
   "id": "6cc0adc3",
   "metadata": {},
   "outputs": [],
   "source": [
    "a={1,2,2,3,4}\n",
    "b={3,4,5,6}"
   ]
  },
  {
   "cell_type": "code",
   "execution_count": 15,
   "id": "f97335a5",
   "metadata": {},
   "outputs": [
    {
     "data": {
      "text/plain": [
       "{1, 2, 3, 4, 5, 6}"
      ]
     },
     "execution_count": 15,
     "metadata": {},
     "output_type": "execute_result"
    }
   ],
   "source": [
    "a | b #Union"
   ]
  },
  {
   "cell_type": "code",
   "execution_count": 16,
   "id": "98a1b91e",
   "metadata": {},
   "outputs": [
    {
     "data": {
      "text/plain": [
       "{3, 4}"
      ]
     },
     "execution_count": 16,
     "metadata": {},
     "output_type": "execute_result"
    }
   ],
   "source": [
    "a & b #Intersection"
   ]
  },
  {
   "cell_type": "markdown",
   "id": "f8acbaf8",
   "metadata": {},
   "source": [
    "# Agents"
   ]
  },
  {
   "cell_type": "code",
   "execution_count": 17,
   "id": "1a202427",
   "metadata": {},
   "outputs": [],
   "source": [
    "sensor=[10,20,30,40,50]"
   ]
  },
  {
   "cell_type": "code",
   "execution_count": 18,
   "id": "06aa65ce",
   "metadata": {},
   "outputs": [],
   "source": [
    "def simplereflexagent(sensor):\n",
    "    for temp in sensor:\n",
    "        if temp>30:\n",
    "            print('Turn off the heater')\n",
    "        else:\n",
    "            print('Turn it on')\n"
   ]
  },
  {
   "cell_type": "code",
   "execution_count": 19,
   "id": "8d438f6a",
   "metadata": {},
   "outputs": [
    {
     "name": "stdout",
     "output_type": "stream",
     "text": [
      "Turn it on\n",
      "Turn it on\n",
      "Turn it on\n",
      "Turn off the heater\n",
      "Turn off the heater\n"
     ]
    }
   ],
   "source": [
    "simplereflexagent(sensor)"
   ]
  },
  {
   "cell_type": "code",
   "execution_count": null,
   "id": "50baca9b",
   "metadata": {},
   "outputs": [],
   "source": []
  }
 ],
 "metadata": {
  "kernelspec": {
   "display_name": "Python 3 (ipykernel)",
   "language": "python",
   "name": "python3"
  },
  "language_info": {
   "codemirror_mode": {
    "name": "ipython",
    "version": 3
   },
   "file_extension": ".py",
   "mimetype": "text/x-python",
   "name": "python",
   "nbconvert_exporter": "python",
   "pygments_lexer": "ipython3",
   "version": "3.9.13"
  }
 },
 "nbformat": 4,
 "nbformat_minor": 5
}
