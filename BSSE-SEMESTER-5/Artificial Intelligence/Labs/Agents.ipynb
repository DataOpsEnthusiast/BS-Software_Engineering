{
 "cells": [
  {
   "cell_type": "code",
   "execution_count": 4,
   "id": "e050ffd5",
   "metadata": {},
   "outputs": [
    {
     "name": "stdout",
     "output_type": "stream",
     "text": [
      "{'Loc_a': 'clean', 'Loc_b': 'dirty'}\n",
      "{'Loc_a': 'clean', 'Loc_b': 'clean'}\n",
      "Perform action:  NoOp\n"
     ]
    }
   ],
   "source": [
    "class ModelBasedVacuumAgent():\n",
    "    def __init__(self,init_a,init_b):\n",
    "        self.model = {\"Loc_a\" : init_a, \"Loc_b\" : init_b}\n",
    "    def DoAction(self,location, status): #current  \n",
    "        print(self.model)\n",
    "        self.model[location] = status\n",
    "        print(self.model)\n",
    "        if self.model[\"Loc_a\"] == self.model[\"Loc_b\"] == 'clean':\n",
    "            return 'NoOp'\n",
    "        elif status == 'dirty':\n",
    "            return 'suck'\n",
    "        elif location == \"Loc_a\":\n",
    "            return 'move to loc b'\n",
    "        else:\n",
    "            return 'move to loc a'\n",
    "a=ModelBasedVacuumAgent('clean','dirty')\n",
    "print(\"Perform action: \",a.DoAction(\"Loc_b\",'clean'))"
   ]
  },
  {
   "cell_type": "code",
   "execution_count": null,
   "id": "c1d6eae3",
   "metadata": {},
   "outputs": [],
   "source": []
  }
 ],
 "metadata": {
  "kernelspec": {
   "display_name": "Python 3 (ipykernel)",
   "language": "python",
   "name": "python3"
  },
  "language_info": {
   "codemirror_mode": {
    "name": "ipython",
    "version": 3
   },
   "file_extension": ".py",
   "mimetype": "text/x-python",
   "name": "python",
   "nbconvert_exporter": "python",
   "pygments_lexer": "ipython3",
   "version": "3.9.13"
  }
 },
 "nbformat": 4,
 "nbformat_minor": 5
}
